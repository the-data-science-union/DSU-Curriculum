{
 "cells": [
  {
   "cell_type": "code",
   "execution_count": 1,
   "metadata": {},
   "outputs": [
    {
     "data": {
      "text/html": [
       "<div>\n",
       "<style scoped>\n",
       "    .dataframe tbody tr th:only-of-type {\n",
       "        vertical-align: middle;\n",
       "    }\n",
       "\n",
       "    .dataframe tbody tr th {\n",
       "        vertical-align: top;\n",
       "    }\n",
       "\n",
       "    .dataframe thead th {\n",
       "        text-align: right;\n",
       "    }\n",
       "</style>\n",
       "<table border=\"1\" class=\"dataframe\">\n",
       "  <thead>\n",
       "    <tr style=\"text-align: right;\">\n",
       "      <th></th>\n",
       "      <th>Vehicle Name</th>\n",
       "      <th>Hybrid</th>\n",
       "      <th>SuggestedRetailPrice</th>\n",
       "      <th>DealerCost</th>\n",
       "      <th>EngineSize</th>\n",
       "      <th>Cylinders</th>\n",
       "      <th>Horsepower</th>\n",
       "      <th>CityMPG</th>\n",
       "      <th>HighwayMPG</th>\n",
       "      <th>Weight</th>\n",
       "      <th>WheelBase</th>\n",
       "      <th>Length</th>\n",
       "      <th>Width</th>\n",
       "    </tr>\n",
       "  </thead>\n",
       "  <tbody>\n",
       "    <tr>\n",
       "      <th>0</th>\n",
       "      <td>Chevrolet Aveo 4dr</td>\n",
       "      <td>0</td>\n",
       "      <td>11690</td>\n",
       "      <td>10965</td>\n",
       "      <td>1.6</td>\n",
       "      <td>4</td>\n",
       "      <td>103</td>\n",
       "      <td>28</td>\n",
       "      <td>34</td>\n",
       "      <td>2370</td>\n",
       "      <td>98</td>\n",
       "      <td>167</td>\n",
       "      <td>66</td>\n",
       "    </tr>\n",
       "    <tr>\n",
       "      <th>1</th>\n",
       "      <td>Chevrolet Aveo LS 4dr hatch</td>\n",
       "      <td>0</td>\n",
       "      <td>12585</td>\n",
       "      <td>11802</td>\n",
       "      <td>1.6</td>\n",
       "      <td>4</td>\n",
       "      <td>103</td>\n",
       "      <td>28</td>\n",
       "      <td>34</td>\n",
       "      <td>2348</td>\n",
       "      <td>98</td>\n",
       "      <td>153</td>\n",
       "      <td>66</td>\n",
       "    </tr>\n",
       "    <tr>\n",
       "      <th>2</th>\n",
       "      <td>Chevrolet Cavalier 2dr</td>\n",
       "      <td>0</td>\n",
       "      <td>14610</td>\n",
       "      <td>13697</td>\n",
       "      <td>2.2</td>\n",
       "      <td>4</td>\n",
       "      <td>140</td>\n",
       "      <td>26</td>\n",
       "      <td>37</td>\n",
       "      <td>2617</td>\n",
       "      <td>104</td>\n",
       "      <td>183</td>\n",
       "      <td>69</td>\n",
       "    </tr>\n",
       "    <tr>\n",
       "      <th>3</th>\n",
       "      <td>Chevrolet Cavalier 4dr</td>\n",
       "      <td>0</td>\n",
       "      <td>14810</td>\n",
       "      <td>13884</td>\n",
       "      <td>2.2</td>\n",
       "      <td>4</td>\n",
       "      <td>140</td>\n",
       "      <td>26</td>\n",
       "      <td>37</td>\n",
       "      <td>2676</td>\n",
       "      <td>104</td>\n",
       "      <td>183</td>\n",
       "      <td>68</td>\n",
       "    </tr>\n",
       "    <tr>\n",
       "      <th>4</th>\n",
       "      <td>Chevrolet Cavalier LS 2dr</td>\n",
       "      <td>0</td>\n",
       "      <td>16385</td>\n",
       "      <td>15357</td>\n",
       "      <td>2.2</td>\n",
       "      <td>4</td>\n",
       "      <td>140</td>\n",
       "      <td>26</td>\n",
       "      <td>37</td>\n",
       "      <td>2617</td>\n",
       "      <td>104</td>\n",
       "      <td>183</td>\n",
       "      <td>69</td>\n",
       "    </tr>\n",
       "  </tbody>\n",
       "</table>\n",
       "</div>"
      ],
      "text/plain": [
       "                  Vehicle Name  Hybrid  SuggestedRetailPrice  DealerCost  \\\n",
       "0           Chevrolet Aveo 4dr       0                 11690       10965   \n",
       "1  Chevrolet Aveo LS 4dr hatch       0                 12585       11802   \n",
       "2       Chevrolet Cavalier 2dr       0                 14610       13697   \n",
       "3       Chevrolet Cavalier 4dr       0                 14810       13884   \n",
       "4    Chevrolet Cavalier LS 2dr       0                 16385       15357   \n",
       "\n",
       "   EngineSize  Cylinders  Horsepower  CityMPG  HighwayMPG  Weight  WheelBase  \\\n",
       "0         1.6          4         103       28          34    2370         98   \n",
       "1         1.6          4         103       28          34    2348         98   \n",
       "2         2.2          4         140       26          37    2617        104   \n",
       "3         2.2          4         140       26          37    2676        104   \n",
       "4         2.2          4         140       26          37    2617        104   \n",
       "\n",
       "   Length  Width  \n",
       "0     167     66  \n",
       "1     153     66  \n",
       "2     183     69  \n",
       "3     183     68  \n",
       "4     183     69  "
      ]
     },
     "execution_count": 1,
     "metadata": {},
     "output_type": "execute_result"
    }
   ],
   "source": [
    "import numpy as np\n",
    "import pandas as pd\n",
    "from matplotlib import pyplot as plt\n",
    "import os as os\n",
    "\n",
    "\n",
    "Cars = pd.read_csv(\"cars04.csv\")\n",
    "Cars.head()"
   ]
  },
  {
   "cell_type": "code",
   "execution_count": 2,
   "metadata": {},
   "outputs": [
    {
     "data": {
      "text/plain": [
       "Index(['Vehicle Name', 'Hybrid', 'SuggestedRetailPrice', 'DealerCost',\n",
       "       'EngineSize', 'Cylinders', 'Horsepower', 'CityMPG', 'HighwayMPG',\n",
       "       'Weight', 'WheelBase', 'Length', 'Width'],\n",
       "      dtype='object')"
      ]
     },
     "execution_count": 2,
     "metadata": {},
     "output_type": "execute_result"
    }
   ],
   "source": [
    "Cars.columns ##Get a look at all of our variables"
   ]
  },
  {
   "cell_type": "code",
   "execution_count": 3,
   "metadata": {},
   "outputs": [],
   "source": [
    "##Alright guys, we introduce you to a new essential package of Data Analytics : Statsmodels\n",
    "##Statsmodels is one of the two data modeling essential packages in Python (Patsy being the other)\n",
    "##Go ahead and make sure to get it imported into your program first\n",
    "\n",
    "import patsy ###Weird story, but statsmodels actually uses the patsy package to produce its models in a sense\n",
    "             ###Why dont we use patsy then? Cause the coding's easier...\n",
    "\n",
    "import statsmodels.api as sm"
   ]
  },
  {
   "cell_type": "code",
   "execution_count": 4,
   "metadata": {},
   "outputs": [],
   "source": [
    "#Simple Linear Regression\n",
    "##Really straight forward coding...\n",
    "\n",
    "\n",
    "##Lets say I wanted to run a regression on how City Mileage correlates with  Dealer Cost, see the equation that can predict\n",
    "##the Dealer cost based off\n",
    "\n",
    "\n",
    "X = Cars[\"CityMPG\"]   #explanatory variable (the variable that does the explaining)\n",
    "\n",
    "Y = Cars[\"DealerCost\"]  #response variable (variable that the explaining is in response too)"
   ]
  },
  {
   "cell_type": "code",
   "execution_count": 5,
   "metadata": {},
   "outputs": [],
   "source": [
    "model = sm.OLS(Y,X) ##To run the regression and build the model\n",
    "\n",
    "results = model.fit() ##To recieve and give a name to the results from your regression model"
   ]
  },
  {
   "cell_type": "code",
   "execution_count": 6,
   "metadata": {},
   "outputs": [
    {
     "data": {
      "text/plain": [
       "CityMPG    1089.770161\n",
       "dtype: float64"
      ]
     },
     "execution_count": 6,
     "metadata": {},
     "output_type": "execute_result"
    }
   ],
   "source": [
    "##Easy way to check your parameters\n",
    "results.params"
   ]
  },
  {
   "cell_type": "code",
   "execution_count": 7,
   "metadata": {},
   "outputs": [
    {
     "name": "stdout",
     "output_type": "stream",
     "text": [
      "                            OLS Regression Results                            \n",
      "==============================================================================\n",
      "Dep. Variable:             DealerCost   R-squared:                       0.627\n",
      "Model:                            OLS   Adj. R-squared:                  0.626\n",
      "Method:                 Least Squares   F-statistic:                     392.1\n",
      "Date:                Fri, 31 May 2019   Prob (F-statistic):           7.66e-52\n",
      "Time:                        17:53:29   Log-Likelihood:                -2636.6\n",
      "No. Observations:                 234   AIC:                             5275.\n",
      "Df Residuals:                     233   BIC:                             5279.\n",
      "Df Model:                           1                                         \n",
      "Covariance Type:            nonrobust                                         \n",
      "==============================================================================\n",
      "                 coef    std err          t      P>|t|      [0.025      0.975]\n",
      "------------------------------------------------------------------------------\n",
      "CityMPG     1089.7702     55.032     19.802      0.000     981.345    1198.195\n",
      "==============================================================================\n",
      "Omnibus:                       62.244   Durbin-Watson:                   0.331\n",
      "Prob(Omnibus):                  0.000   Jarque-Bera (JB):              208.882\n",
      "Skew:                           1.080   Prob(JB):                     4.38e-46\n",
      "Kurtosis:                       7.094   Cond. No.                         1.00\n",
      "==============================================================================\n",
      "\n",
      "Warnings:\n",
      "[1] Standard Errors assume that the covariance matrix of the errors is correctly specified.\n"
     ]
    }
   ],
   "source": [
    "##To see EVERYTHING\n",
    "print(results.summary())"
   ]
  },
  {
   "cell_type": "code",
   "execution_count": 8,
   "metadata": {},
   "outputs": [],
   "source": [
    "##Understand this display.... is statistical art\n",
    "##The coding for a regression is easy but too understand it.. thats what defines a true data analsysts\n",
    "##WHAT IS IT SAYING, WHAT DOES IT ALL MEAN!"
   ]
  },
  {
   "cell_type": "code",
   "execution_count": 9,
   "metadata": {},
   "outputs": [],
   "source": [
    "#coef = the coefficent of the variable y = (coef)x\n",
    "\n",
    "#Pr|t| (p-value) = the proababilty that this one factor defines this variable (Low probabilty means significant [GOOD] results)\n",
    "                    #Why is this? Due to Students T-Test Edicate\n",
    "                    #P-Value measures probabilty these results were by random chance\n",
    "                    #Low P-Value means your test proved \"signficant results\" and not random results\n",
    "\n",
    "#R-squared = Coeffiecent of Dtermination, explained variation/total variation. \"The variation ratio\"\n",
    "            # Unexplained variation is variation from other varibales\n",
    "\n",
    "#t (t-statistic) : (xbar-mu0)/(std.error) ,easures to indicate rather of sample mean is the same as the population mean\n",
    "\n",
    "#Std.error = standard devation of sample size/ sqrt(sample size)\n",
    "\n",
    "#Conf Int ([0.025 , 0.975]) : #Get a proabable range of the value (im 95% confident the coef will be between...)"
   ]
  },
  {
   "cell_type": "code",
   "execution_count": 10,
   "metadata": {},
   "outputs": [
    {
     "data": {
      "text/html": [
       "<div>\n",
       "<style scoped>\n",
       "    .dataframe tbody tr th:only-of-type {\n",
       "        vertical-align: middle;\n",
       "    }\n",
       "\n",
       "    .dataframe tbody tr th {\n",
       "        vertical-align: top;\n",
       "    }\n",
       "\n",
       "    .dataframe thead th {\n",
       "        text-align: right;\n",
       "    }\n",
       "</style>\n",
       "<table border=\"1\" class=\"dataframe\">\n",
       "  <thead>\n",
       "    <tr style=\"text-align: right;\">\n",
       "      <th></th>\n",
       "      <th>const</th>\n",
       "      <th>CityMPG</th>\n",
       "    </tr>\n",
       "  </thead>\n",
       "  <tbody>\n",
       "    <tr>\n",
       "      <th>0</th>\n",
       "      <td>1.0</td>\n",
       "      <td>28</td>\n",
       "    </tr>\n",
       "    <tr>\n",
       "      <th>1</th>\n",
       "      <td>1.0</td>\n",
       "      <td>28</td>\n",
       "    </tr>\n",
       "    <tr>\n",
       "      <th>2</th>\n",
       "      <td>1.0</td>\n",
       "      <td>26</td>\n",
       "    </tr>\n",
       "    <tr>\n",
       "      <th>3</th>\n",
       "      <td>1.0</td>\n",
       "      <td>26</td>\n",
       "    </tr>\n",
       "    <tr>\n",
       "      <th>4</th>\n",
       "      <td>1.0</td>\n",
       "      <td>26</td>\n",
       "    </tr>\n",
       "  </tbody>\n",
       "</table>\n",
       "</div>"
      ],
      "text/plain": [
       "   const  CityMPG\n",
       "0    1.0       28\n",
       "1    1.0       28\n",
       "2    1.0       26\n",
       "3    1.0       26\n",
       "4    1.0       26"
      ]
     },
     "execution_count": 10,
     "metadata": {},
     "output_type": "execute_result"
    }
   ],
   "source": [
    "#But wheres my constant? we want y = a+Bx not y = Bx\n",
    "#Add constant :\n",
    "\n",
    "X = sm.add_constant(X)\n",
    "X.head()"
   ]
  },
  {
   "cell_type": "code",
   "execution_count": 11,
   "metadata": {},
   "outputs": [
    {
     "data": {
      "text/plain": [
       "const      56351.537378\n",
       "CityMPG    -1328.756861\n",
       "dtype: float64"
      ]
     },
     "execution_count": 11,
     "metadata": {},
     "output_type": "execute_result"
    }
   ],
   "source": [
    "model_2 = sm.OLS(Y,X)\n",
    "\n",
    "results_2 = model_2.fit()\n",
    "\n",
    "results_2.params"
   ]
  },
  {
   "cell_type": "code",
   "execution_count": 12,
   "metadata": {},
   "outputs": [
    {
     "name": "stdout",
     "output_type": "stream",
     "text": [
      "                            OLS Regression Results                            \n",
      "==============================================================================\n",
      "Dep. Variable:             DealerCost   R-squared:                       0.273\n",
      "Model:                            OLS   Adj. R-squared:                  0.270\n",
      "Method:                 Least Squares   F-statistic:                     87.09\n",
      "Date:                Fri, 31 May 2019   Prob (F-statistic):           8.68e-18\n",
      "Time:                        17:55:31   Log-Likelihood:                -2537.7\n",
      "No. Observations:                 234   AIC:                             5079.\n",
      "Df Residuals:                     232   BIC:                             5086.\n",
      "Df Model:                           1                                         \n",
      "Covariance Type:            nonrobust                                         \n",
      "==============================================================================\n",
      "                 coef    std err          t      P>|t|      [0.025      0.975]\n",
      "------------------------------------------------------------------------------\n",
      "const       5.635e+04   3208.923     17.561      0.000       5e+04    6.27e+04\n",
      "CityMPG    -1328.7569    142.384     -9.332      0.000   -1609.288   -1048.225\n",
      "==============================================================================\n",
      "Omnibus:                      152.272   Durbin-Watson:                   0.687\n",
      "Prob(Omnibus):                  0.000   Jarque-Bera (JB):             1158.689\n",
      "Skew:                           2.568   Prob(JB):                    2.48e-252\n",
      "Kurtosis:                      12.616   Cond. No.                         89.0\n",
      "==============================================================================\n",
      "\n",
      "Warnings:\n",
      "[1] Standard Errors assume that the covariance matrix of the errors is correctly specified.\n"
     ]
    }
   ],
   "source": [
    "print(results_2.summary())\n",
    "\n",
    "##This is the true simple linear regression"
   ]
  },
  {
   "cell_type": "code",
   "execution_count": 13,
   "metadata": {},
   "outputs": [
    {
     "data": {
      "text/html": [
       "<div>\n",
       "<style scoped>\n",
       "    .dataframe tbody tr th:only-of-type {\n",
       "        vertical-align: middle;\n",
       "    }\n",
       "\n",
       "    .dataframe tbody tr th {\n",
       "        vertical-align: top;\n",
       "    }\n",
       "\n",
       "    .dataframe thead th {\n",
       "        text-align: right;\n",
       "    }\n",
       "</style>\n",
       "<table border=\"1\" class=\"dataframe\">\n",
       "  <thead>\n",
       "    <tr style=\"text-align: right;\">\n",
       "      <th></th>\n",
       "      <th>const</th>\n",
       "      <th>CityMPG</th>\n",
       "      <th>Weight</th>\n",
       "    </tr>\n",
       "  </thead>\n",
       "  <tbody>\n",
       "    <tr>\n",
       "      <th>0</th>\n",
       "      <td>1.0</td>\n",
       "      <td>28</td>\n",
       "      <td>2370</td>\n",
       "    </tr>\n",
       "    <tr>\n",
       "      <th>1</th>\n",
       "      <td>1.0</td>\n",
       "      <td>28</td>\n",
       "      <td>2348</td>\n",
       "    </tr>\n",
       "    <tr>\n",
       "      <th>2</th>\n",
       "      <td>1.0</td>\n",
       "      <td>26</td>\n",
       "      <td>2617</td>\n",
       "    </tr>\n",
       "    <tr>\n",
       "      <th>3</th>\n",
       "      <td>1.0</td>\n",
       "      <td>26</td>\n",
       "      <td>2676</td>\n",
       "    </tr>\n",
       "    <tr>\n",
       "      <th>4</th>\n",
       "      <td>1.0</td>\n",
       "      <td>26</td>\n",
       "      <td>2617</td>\n",
       "    </tr>\n",
       "  </tbody>\n",
       "</table>\n",
       "</div>"
      ],
      "text/plain": [
       "   const  CityMPG  Weight\n",
       "0    1.0       28    2370\n",
       "1    1.0       28    2348\n",
       "2    1.0       26    2617\n",
       "3    1.0       26    2676\n",
       "4    1.0       26    2617"
      ]
     },
     "execution_count": 13,
     "metadata": {},
     "output_type": "execute_result"
    }
   ],
   "source": [
    "#Multi-Linear Regression\n",
    "##When you want to see more than one explantory variable in correspondence to the response variable\n",
    "\n",
    "\n",
    "##Now I want to see have much the regression on how to define the Dealer Cost based off city mileage and weight\n",
    "##Easiest to set x as a Data Frame to all the variables you want as explanatory variables:\n",
    "\n",
    "X1 = Cars[[\"CityMPG\",\"Weight\"]]\n",
    "X2 = sm.add_constant(X1)\n",
    "X2.head()"
   ]
  },
  {
   "cell_type": "code",
   "execution_count": 14,
   "metadata": {},
   "outputs": [
    {
     "data": {
      "text/plain": [
       "const     -59319.690396\n",
       "CityMPG      324.115894\n",
       "Weight        24.036935\n",
       "dtype: float64"
      ]
     },
     "execution_count": 14,
     "metadata": {},
     "output_type": "execute_result"
    }
   ],
   "source": [
    "##Now fit the model\n",
    "\n",
    "model_3 = sm.OLS(Y,X2)\n",
    "\n",
    "results_3 = model_3.fit()\n",
    "\n",
    "results_3.params"
   ]
  },
  {
   "cell_type": "code",
   "execution_count": 15,
   "metadata": {},
   "outputs": [
    {
     "name": "stdout",
     "output_type": "stream",
     "text": [
      "                            OLS Regression Results                            \n",
      "==============================================================================\n",
      "Dep. Variable:             DealerCost   R-squared:                       0.606\n",
      "Model:                            OLS   Adj. R-squared:                  0.602\n",
      "Method:                 Least Squares   F-statistic:                     177.3\n",
      "Date:                Fri, 31 May 2019   Prob (F-statistic):           2.15e-47\n",
      "Time:                        17:57:08   Log-Likelihood:                -2466.1\n",
      "No. Observations:                 234   AIC:                             4938.\n",
      "Df Residuals:                     231   BIC:                             4949.\n",
      "Df Model:                           2                                         \n",
      "Covariance Type:            nonrobust                                         \n",
      "==============================================================================\n",
      "                 coef    std err          t      P>|t|      [0.025      0.975]\n",
      "------------------------------------------------------------------------------\n",
      "const      -5.932e+04   8618.784     -6.883      0.000   -7.63e+04   -4.23e+04\n",
      "CityMPG      324.1159    158.327      2.047      0.042      12.167     636.065\n",
      "Weight        24.0369      1.722     13.958      0.000      20.644      27.430\n",
      "==============================================================================\n",
      "Omnibus:                      158.919   Durbin-Watson:                   0.786\n",
      "Prob(Omnibus):                  0.000   Jarque-Bera (JB):             2157.801\n",
      "Skew:                           2.444   Prob(JB):                         0.00\n",
      "Kurtosis:                      17.051   Cond. No.                     4.81e+04\n",
      "==============================================================================\n",
      "\n",
      "Warnings:\n",
      "[1] Standard Errors assume that the covariance matrix of the errors is correctly specified.\n",
      "[2] The condition number is large, 4.81e+04. This might indicate that there are\n",
      "strong multicollinearity or other numerical problems.\n"
     ]
    }
   ],
   "source": [
    "print(results_3.summary())"
   ]
  },
  {
   "cell_type": "code",
   "execution_count": 16,
   "metadata": {},
   "outputs": [],
   "source": [
    "#Regression with Interaction\n",
    "##For this we denote a new import syntax\n",
    "\n",
    "import statsmodels.formula.api as smf\n",
    "\n",
    "###This way is similar to the R Software\n",
    "###We do all the steps in one go\n",
    "###You might prefer this way for regular regression as well"
   ]
  },
  {
   "cell_type": "code",
   "execution_count": 17,
   "metadata": {},
   "outputs": [
    {
     "name": "stdout",
     "output_type": "stream",
     "text": [
      "                            OLS Regression Results                            \n",
      "==============================================================================\n",
      "Dep. Variable:             DealerCost   R-squared:                       0.606\n",
      "Model:                            OLS   Adj. R-squared:                  0.602\n",
      "Method:                 Least Squares   F-statistic:                     177.3\n",
      "Date:                Fri, 31 May 2019   Prob (F-statistic):           2.15e-47\n",
      "Time:                        17:58:53   Log-Likelihood:                -2466.1\n",
      "No. Observations:                 234   AIC:                             4938.\n",
      "Df Residuals:                     231   BIC:                             4949.\n",
      "Df Model:                           2                                         \n",
      "Covariance Type:            nonrobust                                         \n",
      "==============================================================================\n",
      "                 coef    std err          t      P>|t|      [0.025      0.975]\n",
      "------------------------------------------------------------------------------\n",
      "Intercept  -5.932e+04   8618.784     -6.883      0.000   -7.63e+04   -4.23e+04\n",
      "CityMPG      324.1159    158.327      2.047      0.042      12.167     636.065\n",
      "Weight        24.0369      1.722     13.958      0.000      20.644      27.430\n",
      "==============================================================================\n",
      "Omnibus:                      158.919   Durbin-Watson:                   0.786\n",
      "Prob(Omnibus):                  0.000   Jarque-Bera (JB):             2157.801\n",
      "Skew:                           2.444   Prob(JB):                         0.00\n",
      "Kurtosis:                      17.051   Cond. No.                     4.81e+04\n",
      "==============================================================================\n",
      "\n",
      "Warnings:\n",
      "[1] Standard Errors assume that the covariance matrix of the errors is correctly specified.\n",
      "[2] The condition number is large, 4.81e+04. This might indicate that there are\n",
      "strong multicollinearity or other numerical problems.\n"
     ]
    }
   ],
   "source": [
    "#Regular Multi-Regression\n",
    "##Predict the Dealer Cost by  the City Mileage and Weight of the car\n",
    "res1 = smf.ols(formula= \"DealerCost ~ CityMPG + Weight \", data = Cars).fit()\n",
    "res1.params\n",
    "print(res1.summary())"
   ]
  },
  {
   "cell_type": "code",
   "execution_count": 18,
   "metadata": {},
   "outputs": [
    {
     "data": {
      "text/plain": [
       "Index(['Gender', 'Premie', 'weight', 'Apgar1', 'Fage', 'Mage', 'Feduc',\n",
       "       'Meduc', 'TotPreg', 'Visits', 'Marital', 'Racemom', 'Racedad',\n",
       "       'Hispmom', 'Hispdad', 'Gained', 'Habit', 'MomPriorCond', 'BirthDef',\n",
       "       'DelivComp', 'BirthComp'],\n",
       "      dtype='object')"
      ]
     },
     "execution_count": 18,
     "metadata": {},
     "output_type": "execute_result"
    }
   ],
   "source": [
    "#Regressionn with a Categorical Variable\n",
    "\n",
    "##Need to import data frame with categorical data\n",
    "##Simply add C() to the variable\n",
    "births = pd.read_csv(\"births.csv\")\n",
    "births.columns"
   ]
  },
  {
   "cell_type": "code",
   "execution_count": 19,
   "metadata": {},
   "outputs": [
    {
     "data": {
      "text/html": [
       "<div>\n",
       "<style scoped>\n",
       "    .dataframe tbody tr th:only-of-type {\n",
       "        vertical-align: middle;\n",
       "    }\n",
       "\n",
       "    .dataframe tbody tr th {\n",
       "        vertical-align: top;\n",
       "    }\n",
       "\n",
       "    .dataframe thead th {\n",
       "        text-align: right;\n",
       "    }\n",
       "</style>\n",
       "<table border=\"1\" class=\"dataframe\">\n",
       "  <thead>\n",
       "    <tr style=\"text-align: right;\">\n",
       "      <th></th>\n",
       "      <th>Gender</th>\n",
       "      <th>Premie</th>\n",
       "      <th>weight</th>\n",
       "      <th>Apgar1</th>\n",
       "      <th>Fage</th>\n",
       "      <th>Mage</th>\n",
       "      <th>Feduc</th>\n",
       "      <th>Meduc</th>\n",
       "      <th>TotPreg</th>\n",
       "      <th>Visits</th>\n",
       "      <th>...</th>\n",
       "      <th>Racemom</th>\n",
       "      <th>Racedad</th>\n",
       "      <th>Hispmom</th>\n",
       "      <th>Hispdad</th>\n",
       "      <th>Gained</th>\n",
       "      <th>Habit</th>\n",
       "      <th>MomPriorCond</th>\n",
       "      <th>BirthDef</th>\n",
       "      <th>DelivComp</th>\n",
       "      <th>BirthComp</th>\n",
       "    </tr>\n",
       "  </thead>\n",
       "  <tbody>\n",
       "    <tr>\n",
       "      <th>0</th>\n",
       "      <td>Male</td>\n",
       "      <td>No</td>\n",
       "      <td>124</td>\n",
       "      <td>8</td>\n",
       "      <td>31</td>\n",
       "      <td>25</td>\n",
       "      <td>13</td>\n",
       "      <td>14</td>\n",
       "      <td>1</td>\n",
       "      <td>13</td>\n",
       "      <td>...</td>\n",
       "      <td>White</td>\n",
       "      <td>White</td>\n",
       "      <td>NotHisp</td>\n",
       "      <td>NotHisp</td>\n",
       "      <td>40</td>\n",
       "      <td>NonSmoker</td>\n",
       "      <td>None</td>\n",
       "      <td>None</td>\n",
       "      <td>At Least One</td>\n",
       "      <td>None</td>\n",
       "    </tr>\n",
       "    <tr>\n",
       "      <th>1</th>\n",
       "      <td>Female</td>\n",
       "      <td>No</td>\n",
       "      <td>177</td>\n",
       "      <td>8</td>\n",
       "      <td>36</td>\n",
       "      <td>26</td>\n",
       "      <td>9</td>\n",
       "      <td>12</td>\n",
       "      <td>2</td>\n",
       "      <td>11</td>\n",
       "      <td>...</td>\n",
       "      <td>White</td>\n",
       "      <td>White</td>\n",
       "      <td>Mexican</td>\n",
       "      <td>Mexican</td>\n",
       "      <td>20</td>\n",
       "      <td>NonSmoker</td>\n",
       "      <td>None</td>\n",
       "      <td>None</td>\n",
       "      <td>At Least One</td>\n",
       "      <td>None</td>\n",
       "    </tr>\n",
       "    <tr>\n",
       "      <th>2</th>\n",
       "      <td>Male</td>\n",
       "      <td>No</td>\n",
       "      <td>107</td>\n",
       "      <td>3</td>\n",
       "      <td>30</td>\n",
       "      <td>16</td>\n",
       "      <td>12</td>\n",
       "      <td>8</td>\n",
       "      <td>2</td>\n",
       "      <td>10</td>\n",
       "      <td>...</td>\n",
       "      <td>White</td>\n",
       "      <td>Unknown</td>\n",
       "      <td>Mexican</td>\n",
       "      <td>Unknown</td>\n",
       "      <td>70</td>\n",
       "      <td>NonSmoker</td>\n",
       "      <td>At Least One</td>\n",
       "      <td>None</td>\n",
       "      <td>At Least One</td>\n",
       "      <td>None</td>\n",
       "    </tr>\n",
       "    <tr>\n",
       "      <th>3</th>\n",
       "      <td>Female</td>\n",
       "      <td>No</td>\n",
       "      <td>144</td>\n",
       "      <td>6</td>\n",
       "      <td>33</td>\n",
       "      <td>37</td>\n",
       "      <td>12</td>\n",
       "      <td>14</td>\n",
       "      <td>2</td>\n",
       "      <td>12</td>\n",
       "      <td>...</td>\n",
       "      <td>White</td>\n",
       "      <td>White</td>\n",
       "      <td>NotHisp</td>\n",
       "      <td>NotHisp</td>\n",
       "      <td>50</td>\n",
       "      <td>NonSmoker</td>\n",
       "      <td>None</td>\n",
       "      <td>None</td>\n",
       "      <td>At Least One</td>\n",
       "      <td>None</td>\n",
       "    </tr>\n",
       "    <tr>\n",
       "      <th>4</th>\n",
       "      <td>Male</td>\n",
       "      <td>No</td>\n",
       "      <td>117</td>\n",
       "      <td>9</td>\n",
       "      <td>36</td>\n",
       "      <td>33</td>\n",
       "      <td>10</td>\n",
       "      <td>16</td>\n",
       "      <td>2</td>\n",
       "      <td>19</td>\n",
       "      <td>...</td>\n",
       "      <td>White</td>\n",
       "      <td>Black</td>\n",
       "      <td>NotHisp</td>\n",
       "      <td>NotHisp</td>\n",
       "      <td>40</td>\n",
       "      <td>NonSmoker</td>\n",
       "      <td>At Least One</td>\n",
       "      <td>None</td>\n",
       "      <td>None</td>\n",
       "      <td>None</td>\n",
       "    </tr>\n",
       "  </tbody>\n",
       "</table>\n",
       "<p>5 rows × 21 columns</p>\n",
       "</div>"
      ],
      "text/plain": [
       "   Gender Premie  weight  Apgar1  Fage  Mage  Feduc  Meduc  TotPreg  Visits  \\\n",
       "0    Male     No     124       8    31    25     13     14        1      13   \n",
       "1  Female     No     177       8    36    26      9     12        2      11   \n",
       "2    Male     No     107       3    30    16     12      8        2      10   \n",
       "3  Female     No     144       6    33    37     12     14        2      12   \n",
       "4    Male     No     117       9    36    33     10     16        2      19   \n",
       "\n",
       "     ...    Racemom  Racedad  Hispmom  Hispdad Gained      Habit  \\\n",
       "0    ...      White    White  NotHisp  NotHisp     40  NonSmoker   \n",
       "1    ...      White    White  Mexican  Mexican     20  NonSmoker   \n",
       "2    ...      White  Unknown  Mexican  Unknown     70  NonSmoker   \n",
       "3    ...      White    White  NotHisp  NotHisp     50  NonSmoker   \n",
       "4    ...      White    Black  NotHisp  NotHisp     40  NonSmoker   \n",
       "\n",
       "   MomPriorCond BirthDef     DelivComp BirthComp  \n",
       "0          None     None  At Least One      None  \n",
       "1          None     None  At Least One      None  \n",
       "2  At Least One     None  At Least One      None  \n",
       "3          None     None  At Least One      None  \n",
       "4  At Least One     None          None      None  \n",
       "\n",
       "[5 rows x 21 columns]"
      ]
     },
     "execution_count": 19,
     "metadata": {},
     "output_type": "execute_result"
    }
   ],
   "source": [
    "births.head()"
   ]
  },
  {
   "cell_type": "code",
   "execution_count": 20,
   "metadata": {},
   "outputs": [
    {
     "data": {
      "text/plain": [
       "Intercept                115.603534\n",
       "C(Racemom)[T.Black]       -4.728346\n",
       "C(Racemom)[T.Other]       -2.310486\n",
       "C(Racemom)[T.White]        0.376269\n",
       "C(Racedad)[T.Black]       -0.355594\n",
       "C(Racedad)[T.Other]        2.708624\n",
       "C(Racedad)[T.Unknown]     -3.585367\n",
       "C(Racedad)[T.White]        3.301422\n",
       "dtype: float64"
      ]
     },
     "execution_count": 20,
     "metadata": {},
     "output_type": "execute_result"
    }
   ],
   "source": [
    "catres = smf.ols(formula= \"weight ~ C(Racemom) + C(Racedad)\", data= births).fit()\n",
    "catres.params"
   ]
  },
  {
   "cell_type": "code",
   "execution_count": 21,
   "metadata": {},
   "outputs": [
    {
     "name": "stdout",
     "output_type": "stream",
     "text": [
      "                            OLS Regression Results                            \n",
      "==============================================================================\n",
      "Dep. Variable:                 weight   R-squared:                       0.047\n",
      "Model:                            OLS   Adj. R-squared:                  0.043\n",
      "Method:                 Least Squares   F-statistic:                     13.87\n",
      "Date:                Fri, 31 May 2019   Prob (F-statistic):           1.19e-17\n",
      "Time:                        18:00:20   Log-Likelihood:                -8812.6\n",
      "No. Observations:                1998   AIC:                         1.764e+04\n",
      "Df Residuals:                    1990   BIC:                         1.769e+04\n",
      "Df Model:                           7                                         \n",
      "Covariance Type:            nonrobust                                         \n",
      "=========================================================================================\n",
      "                            coef    std err          t      P>|t|      [0.025      0.975]\n",
      "-----------------------------------------------------------------------------------------\n",
      "Intercept               115.6035      2.975     38.859      0.000     109.769     121.438\n",
      "C(Racemom)[T.Black]      -4.7283      4.356     -1.086      0.278     -13.271       3.814\n",
      "C(Racemom)[T.Other]      -2.3105      6.061     -0.381      0.703     -14.198       9.577\n",
      "C(Racemom)[T.White]       0.3763      4.097      0.092      0.927      -7.659       8.412\n",
      "C(Racedad)[T.Black]      -0.3556      4.825     -0.074      0.941      -9.819       9.108\n",
      "C(Racedad)[T.Other]       2.7086      6.966      0.389      0.697     -10.953      16.370\n",
      "C(Racedad)[T.Unknown]    -3.5854      4.702     -0.762      0.446     -12.807       5.637\n",
      "C(Racedad)[T.White]       3.3014      4.540      0.727      0.467      -5.602      12.205\n",
      "==============================================================================\n",
      "Omnibus:                      379.591   Durbin-Watson:                   2.017\n",
      "Prob(Omnibus):                  0.000   Jarque-Bera (JB):             1106.650\n",
      "Skew:                          -0.976   Prob(JB):                    4.94e-241\n",
      "Kurtosis:                       6.080   Cond. No.                         37.7\n",
      "==============================================================================\n",
      "\n",
      "Warnings:\n",
      "[1] Standard Errors assume that the covariance matrix of the errors is correctly specified.\n"
     ]
    }
   ],
   "source": [
    "print(catres.summary())"
   ]
  },
  {
   "cell_type": "code",
   "execution_count": 22,
   "metadata": {},
   "outputs": [
    {
     "data": {
      "text/plain": [
       "CityMPG          -880.830291\n",
       "Weight             11.400450\n",
       "CityMPG:Weight      0.129702\n",
       "dtype: float64"
      ]
     },
     "execution_count": 22,
     "metadata": {},
     "output_type": "execute_result"
    }
   ],
   "source": [
    "#Add in interaction factor to formula\n",
    "res2 = smf.ols(formula= \"DealerCost ~ CityMPG + Weight + CityMPG*Weight-1 \", data = Cars).fit()\n",
    "res2.params\n",
    "\n",
    "\n",
    "##Interaction is combination of the two variables acting as 1 variable independent of the two.\n",
    "##This is important because sometimes the combination of two vairbales affects the response varibale differently\n",
    "##P-Value is the only real signficant statistic it brings alongside its Beta"
   ]
  },
  {
   "cell_type": "code",
   "execution_count": 23,
   "metadata": {},
   "outputs": [
    {
     "name": "stdout",
     "output_type": "stream",
     "text": [
      "                            OLS Regression Results                            \n",
      "==============================================================================\n",
      "Dep. Variable:             DealerCost   R-squared:                       0.896\n",
      "Model:                            OLS   Adj. R-squared:                  0.894\n",
      "Method:                 Least Squares   F-statistic:                     661.3\n",
      "Date:                Fri, 31 May 2019   Prob (F-statistic):          4.67e-113\n",
      "Time:                        18:02:02   Log-Likelihood:                -2487.6\n",
      "No. Observations:                 234   AIC:                             4981.\n",
      "Df Residuals:                     231   BIC:                             4992.\n",
      "Df Model:                           3                                         \n",
      "Covariance Type:            nonrobust                                         \n",
      "==================================================================================\n",
      "                     coef    std err          t      P>|t|      [0.025      0.975]\n",
      "----------------------------------------------------------------------------------\n",
      "CityMPG         -880.8303    285.728     -3.083      0.002   -1443.796    -317.864\n",
      "Weight            11.4004      1.578      7.226      0.000       8.292      14.509\n",
      "CityMPG:Weight     0.1297      0.156      0.833      0.406      -0.177       0.437\n",
      "==============================================================================\n",
      "Omnibus:                      175.508   Durbin-Watson:                   0.737\n",
      "Prob(Omnibus):                  0.000   Jarque-Bera (JB):             2255.444\n",
      "Skew:                           2.854   Prob(JB):                         0.00\n",
      "Kurtosis:                      17.098   Cond. No.                     3.07e+04\n",
      "==============================================================================\n",
      "\n",
      "Warnings:\n",
      "[1] Standard Errors assume that the covariance matrix of the errors is correctly specified.\n",
      "[2] The condition number is large, 3.07e+04. This might indicate that there are\n",
      "strong multicollinearity or other numerical problems.\n"
     ]
    }
   ],
   "source": [
    "print(res2.summary())"
   ]
  },
  {
   "cell_type": "code",
   "execution_count": 24,
   "metadata": {},
   "outputs": [],
   "source": [
    "#Transformation on your model\n",
    "##When we talk about model diagnostics and model vaildity next week,\n",
    "## sometimes your model won't meet the criteria for a valid model\n",
    "##Use transformations to \"scale and form\" the data a new way so it meets the criteria and is valid.\n",
    "##Typical ones include x^2 and log(x)\n",
    "##ONLY TRANSFORM EXPLANATORY VARIABLES NOT THE RESPONSE"
   ]
  },
  {
   "cell_type": "code",
   "execution_count": 25,
   "metadata": {},
   "outputs": [
    {
     "data": {
      "text/plain": [
       "Intercept         -513404.977993\n",
       "np.log(CityMPG)      1357.077327\n",
       "np.log(Weight)      66315.308995\n",
       "dtype: float64"
      ]
     },
     "execution_count": 25,
     "metadata": {},
     "output_type": "execute_result"
    }
   ],
   "source": [
    "###Log(x) transformation\n",
    "\n",
    "res3 = smf.ols(formula= \"DealerCost ~ np.log(CityMPG) + np.log(Weight)\", data = Cars).fit()\n",
    "res3.params"
   ]
  },
  {
   "cell_type": "code",
   "execution_count": 26,
   "metadata": {},
   "outputs": [
    {
     "name": "stdout",
     "output_type": "stream",
     "text": [
      "                            OLS Regression Results                            \n",
      "==============================================================================\n",
      "Dep. Variable:             DealerCost   R-squared:                       0.551\n",
      "Model:                            OLS   Adj. R-squared:                  0.548\n",
      "Method:                 Least Squares   F-statistic:                     142.0\n",
      "Date:                Fri, 31 May 2019   Prob (F-statistic):           6.13e-41\n",
      "Time:                        18:03:03   Log-Likelihood:                -2481.2\n",
      "No. Observations:                 234   AIC:                             4968.\n",
      "Df Residuals:                     231   BIC:                             4979.\n",
      "Df Model:                           2                                         \n",
      "Covariance Type:            nonrobust                                         \n",
      "===================================================================================\n",
      "                      coef    std err          t      P>|t|      [0.025      0.975]\n",
      "-----------------------------------------------------------------------------------\n",
      "Intercept       -5.134e+05   7.56e+04     -6.791      0.000   -6.62e+05   -3.64e+05\n",
      "np.log(CityMPG)  1357.0773   5810.077      0.234      0.816   -1.01e+04    1.28e+04\n",
      "np.log(Weight)   6.632e+04   7397.525      8.965      0.000    5.17e+04    8.09e+04\n",
      "==============================================================================\n",
      "Omnibus:                      171.214   Durbin-Watson:                   0.755\n",
      "Prob(Omnibus):                  0.000   Jarque-Bera (JB):             2329.259\n",
      "Skew:                           2.724   Prob(JB):                         0.00\n",
      "Kurtosis:                      17.464   Cond. No.                     1.03e+03\n",
      "==============================================================================\n",
      "\n",
      "Warnings:\n",
      "[1] Standard Errors assume that the covariance matrix of the errors is correctly specified.\n",
      "[2] The condition number is large, 1.03e+03. This might indicate that there are\n",
      "strong multicollinearity or other numerical problems.\n"
     ]
    }
   ],
   "source": [
    "print(res3.summary())"
   ]
  },
  {
   "cell_type": "code",
   "execution_count": 27,
   "metadata": {},
   "outputs": [
    {
     "data": {
      "text/plain": [
       "Intercept   -59319.690396\n",
       "CityMPG        324.115894\n",
       "Weight          24.036935\n",
       "dtype: float64"
      ]
     },
     "execution_count": 27,
     "metadata": {},
     "output_type": "execute_result"
    }
   ],
   "source": [
    "###x^2 transformation\n",
    "\n",
    "res4 = smf.ols(formula= \"DealerCost ~ CityMPG**2 + Weight**2\", data = Cars).fit()\n",
    "res4.params"
   ]
  },
  {
   "cell_type": "code",
   "execution_count": 28,
   "metadata": {},
   "outputs": [
    {
     "name": "stdout",
     "output_type": "stream",
     "text": [
      "                            OLS Regression Results                            \n",
      "==============================================================================\n",
      "Dep. Variable:             DealerCost   R-squared:                       0.606\n",
      "Model:                            OLS   Adj. R-squared:                  0.602\n",
      "Method:                 Least Squares   F-statistic:                     177.3\n",
      "Date:                Fri, 31 May 2019   Prob (F-statistic):           2.15e-47\n",
      "Time:                        18:03:30   Log-Likelihood:                -2466.1\n",
      "No. Observations:                 234   AIC:                             4938.\n",
      "Df Residuals:                     231   BIC:                             4949.\n",
      "Df Model:                           2                                         \n",
      "Covariance Type:            nonrobust                                         \n",
      "==============================================================================\n",
      "                 coef    std err          t      P>|t|      [0.025      0.975]\n",
      "------------------------------------------------------------------------------\n",
      "Intercept  -5.932e+04   8618.784     -6.883      0.000   -7.63e+04   -4.23e+04\n",
      "CityMPG      324.1159    158.327      2.047      0.042      12.167     636.065\n",
      "Weight        24.0369      1.722     13.958      0.000      20.644      27.430\n",
      "==============================================================================\n",
      "Omnibus:                      158.919   Durbin-Watson:                   0.786\n",
      "Prob(Omnibus):                  0.000   Jarque-Bera (JB):             2157.801\n",
      "Skew:                           2.444   Prob(JB):                         0.00\n",
      "Kurtosis:                      17.051   Cond. No.                     4.81e+04\n",
      "==============================================================================\n",
      "\n",
      "Warnings:\n",
      "[1] Standard Errors assume that the covariance matrix of the errors is correctly specified.\n",
      "[2] The condition number is large, 4.81e+04. This might indicate that there are\n",
      "strong multicollinearity or other numerical problems.\n"
     ]
    }
   ],
   "source": [
    "print(res4.summary())"
   ]
  },
  {
   "cell_type": "code",
   "execution_count": null,
   "metadata": {},
   "outputs": [],
   "source": []
  }
 ],
 "metadata": {
  "kernelspec": {
   "display_name": "Python 3",
   "language": "python",
   "name": "python3"
  },
  "language_info": {
   "codemirror_mode": {
    "name": "ipython",
    "version": 3
   },
   "file_extension": ".py",
   "mimetype": "text/x-python",
   "name": "python",
   "nbconvert_exporter": "python",
   "pygments_lexer": "ipython3",
   "version": "3.6.5"
  }
 },
 "nbformat": 4,
 "nbformat_minor": 2
}
